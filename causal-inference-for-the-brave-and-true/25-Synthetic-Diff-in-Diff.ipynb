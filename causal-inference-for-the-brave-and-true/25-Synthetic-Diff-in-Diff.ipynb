{
 "cells": [
  {
   "cell_type": "markdown",
   "metadata": {},
   "source": [
    "# 25 - Synthetic Difference-in-Differences\n",
    " \n",
    "In previous chapters, we looked into both Difference-in-Differences and Synthetic Control methods for identifying the treatment effect with panel data (data where we have multiple units observed across multiple time periods). It turns out we can merge both approaches into a single estimator. This new Synthetic Difference-in-Differences estimation procedure manages to exploit advantages of both methods while also increasing the precision (decreasing the error bars) of the treatment effect estimate.\n",
    " \n",
    "We will discuss Synthetic Difference-in-Differences mostly in the case of **block treatment assignment**. This means we observe multiple units across time and, at the **same** time, some units are treated while other units remain untreated. We can visualize this by a matrix of treatment assignments $D$, where the **columns of the matrix are units** and **rows of the matrix are time periods**.\n",
    " \n",
    "$$\n",
    "D = \\begin{bmatrix}\n",
    "    0 & 0 & 0 & \\dots & 0 & 0 \\\\\n",
    "    0 & 0 & 0 & \\dots & 0 & 0 \\\\\n",
    "    \\vdots \\\\\n",
    "    0 & 0 & 0 & \\dots & 1 & 1 \\\\\n",
    "    0 & 0 & 0 & \\dots & 1 & 1 \\\\\n",
    "\\end{bmatrix}\n",
    "$$\n",
    " \n",
    "To make things more concrete, let's follow along with the example of estimating the impact of Proposition 99 in California's Cigarette consumption. In this case, we only have one treated unit, California, that gets treated (passed Proposition 99) at some point in time (November 1988, to be precise). If we say California is the last column of the matrix, we get something like this:\n",
    " \n",
    "$$\n",
    "D = \\begin{bmatrix}\n",
    "    0 & 0 & 0 & \\dots & 0 & 0 \\\\\n",
    "    0 & 0 & 0 & \\dots & 0 & 0 \\\\\n",
    "    \\vdots \\\\\n",
    "    0 & 0 & 0 & \\dots & 0 & 1 \\\\\n",
    "    0 & 0 & 0 & \\dots & 0 & 1 \\\\\n",
    "\\end{bmatrix}\n",
    "$$\n",
    " \n",
    "Notice that here we are only talking about the case where all treated units get the treatment **at the same point in time**. In the end, we will discuss how to handle **staggered addoption treatment assignment**, where the treatment is gradually rolled out to units, causing them to get it at different points in time. The only thing we'll require in that design is that, once a unit is treated, it doesn't roll back to being untreated.\n",
    " \n",
    "Back to the simple case, where we have all units treated at the same time, we can simplify the treatment assignment matrix to four blocks, each represented by another matrix. In general, as we move down the matrix, we are moving forward in time. We will also group the treated units to the right of the matrix. As a result, the first block in our matrix (top left) correspond to the control units prior to the treatment period; the second one (top right) corresponds to the treated units prior to the treatment period; the third block (bottom left) contains the control units after the treatment period and the fourth block (bottom right) is the treated unit after the treatment period. The treatment indicator is zero everywhere except for the block with the treated units after the treatment period. \n",
    " \n",
    "$$\n",
    "D = \\begin{bmatrix}\n",
    "    \\pmb{0} & \\pmb{0} \\\\\n",
    "    \\pmb{0} & \\pmb{1} \\\\\n",
    "\\end{bmatrix}\n",
    "$$\n",
    " \n",
    "This assignment matrix will lead to the following outcome matrix:\n",
    " \n",
    "$$\n",
    "Y = \\begin{bmatrix}\n",
    "    \\pmb{Y}_{pre, co} & \\pmb{Y}_{pre, tr} \\\\\n",
    "    \\pmb{Y}_{post, co} & \\pmb{Y}_{post, tr} \\\\\n",
    "\\end{bmatrix}\n",
    "$$\n",
    " \n",
    "Again, notice how the post-treatment period is on the bottom and the treated units are to the right.\n",
    " \n",
    "In our example of estimating the effect of Proposition 99, the outcome $Y$ is cigarette sales. We use $pre$ and $post$ to represent the period prior and after the treatment respectively and $co$ and $tr$ to represent the control and treated unit respectively. \n",
    " \n",
    "We will use the above matrix representation whenever we talk about estimating the synthetic control weights, but there is also another data representation which is useful, especially if we are talking about DiD. In this representation, we have a table with 5 columns: one representing the units, one representing the time periods, the outcome column and two boolean columns flagging the treated units and the treatment period. The number of rows in this table is the number of units $N$ times the number of periods $T$. Here you can see what it looks like for the Proposition 99 data:"
   ]
  },
  {
   "cell_type": "code",
   "execution_count": null,
   "metadata": {
    "tags": [
     "hide-input"
    ]
   },
   "outputs": [],
   "source": [
    "import numpy as np\n",
    "import pandas as pd\n",
    "from toolz import curry, partial\n",
    "import seaborn as sns\n",
    "from matplotlib import pyplot as plt\n",
    "import statsmodels.formula.api as smf\n",
    "import cvxpy as cp\n",
    "\n",
    "import warnings\n",
    "warnings.filterwarnings('ignore')\n",
    "\n",
    "from matplotlib import style\n",
    "style.use(\"ggplot\")\n",
    "\n",
    "pd.set_option('display.max_columns', 10)"
   ]
  },
  {
   "cell_type": "code",
   "execution_count": null,
   "metadata": {},
   "outputs": [],
   "source": [
    "data = (pd.read_csv(\"data/smoking.csv\")[[\"state\", \"year\", \"cigsale\", \"california\", \"after_treatment\"]]\n",
    "        .rename(columns={\"california\": \"treated\"})\n",
    "        .replace({\"state\": {3: \"california\"}}))\n",
    "\n",
    "data.head()"
   ]
  },
  {
   "cell_type": "code",
   "execution_count": null,
   "metadata": {},
   "outputs": [],
   "source": [
    "data.query(\"state=='california'\").query(\"year.between(1986, 1990)\")"
   ]
  },
  {
   "cell_type": "markdown",
   "metadata": {},
   "source": [
    "If we want to go from this table to the matrix representation we discussed earlier, all we have to do is pivot the table by time (year) and unit (state). We'll be going back and forth between these two representations, as one is more convenient for DiD and the other, for Synthetic Controls estimation. "
   ]
  },
  {
   "cell_type": "code",
   "execution_count": null,
   "metadata": {},
   "outputs": [],
   "source": [
    "data_piv = data.pivot(\"year\", \"state\", \"cigsale\")\n",
    "data_piv = data_piv.rename(columns={c: f\"state_{c}\" for c in data_piv.columns if c != \"california\"})\n",
    "\n",
    "data_piv.head()[[\"state_1\", \"state_2\", \"state_4\", \"state_38\", \"state_39\", \"california\"]].round()"
   ]
  },
  {
   "cell_type": "markdown",
   "metadata": {},
   "source": [
    "In terms of potential outcomes, we can go back to the outcome matrix to review the causal inference goal here. Since the treatment is only rolled out to the treated unit after the treatment period, we observe the potential outcome $Y_0$ everywhere in the matrix, except for the bottom right block. \n",
    " \n",
    "$$\n",
    "Y = \\begin{bmatrix}\n",
    "    \\pmb{Y}(0)_{pre, co} & \\pmb{Y}(0)_{pre, tr} \\\\\n",
    "    \\pmb{Y}(0)_{post, co} & \\pmb{Y}(1)_{post, tr} \\\\\n",
    "\\end{bmatrix}\n",
    "$$\n",
    " \n",
    "Our goal is to estimate the $ATT =  \\pmb{Y}(1)_{post, tr} -  \\pmb{Y}(0)_{post, tr}$. For that, we need to somehow estimate the missing potential outcome $\\pmb{Y}(0)_{post, tr}$. In words, we need to know what would have happened to the treated unit in the post-treatment period had it not been treated. With that in mind, a good place to start is by reviewing both Diff-in-Diff and Synthetic Control. At first, it looks like they are each doing very different things to estimate that missing potential outcome. Combining them sure feels weird. However, both methods have more in common than we might think. "
   ]
  },
  {
   "cell_type": "markdown",
   "metadata": {},
   "source": [
    "## Diff-in-Diff Revisited\n",
    " \n",
    "In the Diff-in-Diff chapter, we got the treatment effect by estimating the following linear model.\n",
    " \n",
    "$$\n",
    "Y_{it} = \\beta_0 + \\beta_1 Post_t + \\beta_2 Treated_i + \\beta_3 Treated_i  Post_t + e_{it}\n",
    "$$\n",
    " \n",
    "Where `post` is a time dummy indicating that the period is after the treatment and `treated` is a unit dummy marking units as being part of the treated group. If we estimate this model in the California example, we get -27.34 as the estimated $ATT$, indicating a strong negative effect of Proposition 99. This would mean that per capita consumption of cigarettes fell by 27 packs due to Proposition 99. "
   ]
  },
  {
   "cell_type": "code",
   "execution_count": null,
   "metadata": {},
   "outputs": [],
   "source": [
    "did_model = smf.ols(\"cigsale ~ after_treatment*treated\", data=data).fit()\n",
    "att = did_model.params[\"after_treatment[T.True]:treated[T.True]\"]\n",
    "print(\"DiD ATT: \", att.round(3))"
   ]
  },
  {
   "cell_type": "code",
   "execution_count": null,
   "metadata": {
    "tags": [
     "hide-input"
    ]
   },
   "outputs": [],
   "source": [
    "pre_year = data.query(\"~after_treatment\")[\"year\"].mean()\n",
    "post_year = data.query(\"after_treatment\")[\"year\"].mean()\n",
    "\n",
    "pre_control_y = did_model.params[\"Intercept\"]\n",
    "post_control_y = did_model.params[\"Intercept\"] + did_model.params[\"after_treatment[T.True]\"]\n",
    "\n",
    "pre_treat_y = did_model.params[\"Intercept\"] + did_model.params[\"treated[T.True]\"]\n",
    "\n",
    "post_treat_y0 = post_control_y + did_model.params[\"treated[T.True]\"]\n",
    "\n",
    "post_treat_y1 = post_treat_y0 + did_model.params[\"after_treatment[T.True]:treated[T.True]\"]\n",
    "\n",
    "plt.plot([pre_year, post_year], [pre_control_y, post_control_y], color=\"C0\", label=\"Control\")\n",
    "plt.plot([pre_year, post_year], [pre_treat_y, post_treat_y0], color=\"C1\", ls=\"dashed\")\n",
    "plt.plot([pre_year, post_year], [pre_treat_y, post_treat_y1], color=\"C1\", label=\"California\")\n",
    "\n",
    "plt.vlines(x=1988, ymin=40, ymax=140, linestyle=\":\", lw=2, label=\"Proposition 99\", color=\"black\")\n",
    "plt.title(\"DiD Estimation\")\n",
    "plt.ylabel(\"Cigarette Sales\")\n",
    "plt.legend();"
   ]
  },
  {
   "cell_type": "markdown",
   "metadata": {},
   "source": [
    "This estimate should be taken with a grain of salt, though. We know that Diff-in-Diff requires the trend in the control group to be equal to that of the treated group in the absence of the treatment. Formally, $E[Y(0)_{post, co} - Y(0)_{pre, co}] = E[Y(0)_{post, tr} - Y(0)_{pre, tr}]$. This is an untestable assumption, but looking at the pre-treatment trend of California (the treated unit) and the other states, we can get a feeling for how plausible it is. Specifically, we can see that the trend in `cigsale` for California is not parallel to the other states, at least in the pre-treatment periods. Cigarette sales in California are decreasing faster than the average of the control states, even prior to the treatment. If this trend extends beyond the pre-treatment period, the DiD estimator will be downward biased, meaning that the true effect is actually less extreme than the one we've estimated above."
   ]
  },
  {
   "cell_type": "code",
   "execution_count": null,
   "metadata": {
    "scrolled": true,
    "tags": [
     "hide-input"
    ]
   },
   "outputs": [],
   "source": [
    "plt.figure(figsize=(10,5))\n",
    "plt.plot(data_piv.drop(columns=[\"california\"]), color=\"C1\", alpha=0.3)\n",
    "plt.plot(data_piv.drop(columns=[\"california\"]).mean(axis=1), lw=3, color=\"C1\", ls=\"dashed\", label=\"Control Avg.\")\n",
    "plt.plot(data_piv[\"california\"], color=\"C0\", label=\"California\")\n",
    "plt.vlines(x=1988, ymin=40, ymax=300, linestyle=\":\", lw=2, label=\"Proposition 99\", color=\"black\")\n",
    "plt.legend()\n",
    "plt.ylabel(\"Cigarette Sales\")\n",
    "plt.title(\"Non-Parallel Trends\");"
   ]
  },
  {
   "cell_type": "markdown",
   "metadata": {},
   "source": [
    "The problem of non-parallel trends is where Synthetic Control comes into play in the Synthetic Diff-in-Diff model. But we are getting ahead of ourselves. Regardless of DiD being a valid model for the data above, what is interesting about it is that we can recast it into the Two-Way Fixed-Effects formulation. To frame DiD like this, we fit unit ($\\alpha_i$) and time ($\\beta_t$) averages, alongside the treatment indicator.\n",
    " \n",
    "$$\n",
    "\\hat{\\tau}^{did} = \\underset{\\mu, \\alpha, \\beta, \\tau}{argmin} \\bigg\\{ \\sum_{i=1}^N \\sum_{t=1}^T \\big(Y_{it} - (\\mu + \\alpha_i + \\beta_t + \\tau D_{it}\\big)^2 \\bigg\\}\n",
    "$$\n",
    " \n",
    "In this formulation, the unit effects capture the difference in intercepts for each unit while the time effects capture the general trend across both treated and control units. To implement this, we could either add time and unit dummies to the model or demean the data. In this process, we subtract the average across both time and units from both treatment and outcome variables:\n",
    " \n",
    "$$\n",
    "\\ddot{Y}_{it} = Y_{it} - \\bar{Y}_i  - \\bar{Y}_t\\\\\n",
    "\\ddot{D}_{it} = D_{it} - \\bar{D}_i - \\bar{D}_t\n",
    "$$\n",
    " \n",
    "Where, $\\bar{X}_i$ is the average across all time periods for unit $i$ and $\\bar{X}_t$ is the average across all units for time $t$: \n",
    " \n",
    "$$\n",
    "\\ddot{Y}_{it} = Y_{it} - T^{-1}\\sum_{t=0}^{t=T} Y_{it}  - N^{-1}\\sum_{i=0}^{i=N} Y_{it}\\\\\n",
    "\\ddot{D}_{it} = D_{it} - T^{-1}\\sum_{t=0}^{t=T} D_{it} - N^{-1}\\sum_{i=0}^{i=N} D_{it}\n",
    "$$\n",
    " \n",
    "After demeaning, a simple regression of the outcome on the treatment indicator (`treat*post`) yields the difference in difference estimator."
   ]
  },
  {
   "cell_type": "code",
   "execution_count": null,
   "metadata": {},
   "outputs": [],
   "source": [
    "@curry\n",
    "def demean(df, col_to_demean):\n",
    "    return df.assign(**{col_to_demean: (df[col_to_demean]\n",
    "                                        - df.groupby(\"state\")[col_to_demean].transform(\"mean\")\n",
    "                                        - df.groupby(\"year\")[col_to_demean].transform(\"mean\"))})\n",
    "\n",
    "formula = f\"\"\"cigsale ~ treat\"\"\"\n",
    "mod = smf.ols(formula,\n",
    "              data=data\n",
    "              .assign(treat = data[\"after_treatment\"]*data[\"treated\"])\n",
    "              .pipe(demean(col_to_demean=\"treat\"))\n",
    "              .pipe(demean(col_to_demean=\"cigsale\")))\n",
    "\n",
    "mod.fit().summary().tables[1]"
   ]
  },
  {
   "cell_type": "markdown",
   "metadata": {},
   "source": [
    "As you can see, we get the exact same parameter as before. After all, both approaches are simply different ways of looking at the same DiD estimator. However, the reason this formulation is much more interesting for our purpose is that it allows us to see how DiD is actually quite similar to Synthetic Controls. Take a very close look at the TWFE formulation above. Notice that it is a regression problem with time effects and unit effects. But notice how there are no weights in the optimization objective. That is the main difference between Diff-in-Diff and Synthetic Controls, as we will see shortly. \n",
    " \n",
    "## Synthetic Controls Revisited\n",
    " \n",
    "In the canonical Synthetic Control estimator, we find unit (state) weights that minimize the difference between the pre-treated outcome of the treated unit and the weighted average of the pre-treated outcome of the control units (in a setting with no covariates). We also constrain the weights to be all positive and sum up to one. To find those weights, we solve the following optimization problem:\n",
    " \n",
    "$$\n",
    "\\hat{w}^{sc} = \\underset{w}{\\mathrm{argmin}} \\ ||\\pmb{\\bar{y}}_{pre, tr} - \\pmb{Y}_{pre, co} \\pmb{w}_{co}||^2_2 \\\\\n",
    "\\text{s.t } \\ \\sum w_i = 1 \\text{ and } \\ w_i > 0 \\ \\forall \\ i\n",
    "$$\n",
    " \n",
    "where the outcome $\\pmb{Y}_{pre, co}$ is a $T_{pre}$ by $N_{co}$ matrix, where the columns are the units and the rows are the time periods. $\\pmb{w}_{co}$ is a $N_{co}$ by 1 column vector, with one entry for each unit. Finally, $\\pmb{\\bar{y}}_{pre, tr}$ is a $T_{pre}$ by 1 column vector, where each entry is the time average of the treated units in the pre-treatment period. This is why we sometimes call Synthetic Control a horizontal regression. In most regression problems, the units are the rows of the matrix, but here they are the columns. Hence, we are regressing the average outcome of the treated units on the control units.\n",
    " \n",
    "Once we find the weights that solve the problem above, we can multiply them by the control units at all time periods to get a synthetic control for the treated unit:\n",
    " \n",
    "$$\n",
    "\\pmb{y}_{sc} = \\pmb{Y}_{co}\\hat{\\pmb{w}}^{sc}\n",
    "$$\n",
    " \n",
    "The idea here is that $\\pmb{y}_{post, sc}$ is a good estimator for our missing potential outcome $Y(0)_{post, tr}$. If that is the case, the $ATT$ is simply the average of the treated unit in the post-treatment period minus the average of the synthetic control, also in the post treatment period.\n",
    " \n",
    "$$\n",
    "\\hat{\\tau} =  \\bar{y}_{post, tr} - \\bar{y}_{post, sc}\n",
    "$$\n"
   ]
  },
  {
   "cell_type": "code",
   "execution_count": null,
   "metadata": {},
   "outputs": [],
   "source": [
    "from sc import SyntheticControl\n",
    "\n",
    "sc_model = SyntheticControl()\n",
    "\n",
    "y_co_pre = data.query(\"~after_treatment\").query(\"~treated\").pivot(\"year\", \"state\", \"cigsale\")\n",
    "y_tr_pre = data.query(\"~after_treatment\").query(\"treated\")[\"cigsale\"]\n",
    "\n",
    "sc_model.fit(y_co_pre, y_tr_pre)\n",
    "sc_weights = pd.Series(sc_model.w_, index=y_co_pre.columns, name=\"sc_w\")\n",
    "\n",
    "sc = data.query(\"~treated\").pivot(\"year\", \"state\", \"cigsale\").dot(sc_weights)\n",
    "\n",
    "att = data.query(\"treated\")[\"cigsale\"][sc.index > 1988].mean() - sc[sc.index > 1988].mean()\n",
    "\n",
    "print(\"SC ATT: \", att.round(4))"
   ]
  },
  {
   "cell_type": "markdown",
   "metadata": {},
   "source": [
    "This estimate is much smaller than the one we got with Diff-in-Diff. Synthetic Controls can accommodate non-parallel pre-treatment trends much better, so it is not susceptible to the same bias as Diff-in-Diff. Rather, the process of baking a Synthetic Control enforces parallel trends, at least in the pre-treatment period. As a result, the estimate we get is much smaller and much more plausible. \n",
    " \n",
    "We can visualize this estimation process by plotting the realized outcome for California alongside the outcome of the synthetic control. We also plot as dashed lines the post intervention average of both California and the synthetic control. The difference between these lines is the estimated $ATT$."
   ]
  },
  {
   "cell_type": "code",
   "execution_count": null,
   "metadata": {
    "tags": [
     "hide-input"
    ]
   },
   "outputs": [],
   "source": [
    "plt.plot(sc, label=\"Synthetic Control\")\n",
    "plt.plot(sc.index, data.query(\"treated\")[\"cigsale\"], label=\"California\", color=\"C1\")\n",
    "\n",
    "calif_avg = data.query(\"treated\")[\"cigsale\"][sc.index > 1988].mean()\n",
    "sc_avg = sc[sc.index > 1988].mean()\n",
    "\n",
    "plt.hlines(calif_avg, 1988, 2000, color=\"C1\", ls=\"dashed\")\n",
    "plt.hlines(sc_avg, 1988, 2000, color=\"C0\", ls=\"dashed\")\n",
    "\n",
    "plt.title(\"SC Estimation\")\n",
    "plt.ylabel(\"Cigarette Sales\")\n",
    "plt.vlines(x=1988, ymin=40, ymax=140, linestyle=\":\", lw=2, label=\"Proposition 99\", color=\"black\")\n",
    "plt.legend();"
   ]
  },
  {
   "cell_type": "markdown",
   "metadata": {},
   "source": [
    "Interestingly enough, we can also recast the Synthetic Control estimator as solving the following optimization problem, which is quite similar to the Two-Way Fixed-Effects formulation we used for Diff-in-Diff\n",
    " \n",
    "$$\n",
    "\\hat{\\tau}^{sc} = \\underset{\\beta, \\tau}{argmin}  \\bigg\\{ \\sum_{i=1}^N \\sum_{t=1}^T \\big(Y_{it} - \\beta_t - \\tau D_{it}\\big)^2 \\hat{w}^{sc}_i \\bigg\\}\n",
    "$$\n",
    " \n",
    "where the $\\hat{w}^{sc}_i$ weights for the control units are estimated from the optimization problem we saw earlier. For the treated unit,  the weights are simply $1/N_{tr}$ (uniform weighting). \n",
    " \n",
    "Notice the difference between SC and DiD here. First, Synthetic Control adds unit weights $\\hat{w}^{sc}_i$ to the equation. Second, we have time fixed effects $\\beta_t$ but no unit fixed effect $\\alpha_i$, nor an overall intercept  $\\mu$. \n",
    " \n",
    "To verify that these two formulations are actually equivalent, here is the code for it, which yields the exact same $ATT$ estimate. "
   ]
  },
  {
   "cell_type": "code",
   "execution_count": null,
   "metadata": {},
   "outputs": [],
   "source": [
    "@curry\n",
    "def demean_time(df, col_to_demean):\n",
    "    return df.assign(**{col_to_demean: (df[col_to_demean]\n",
    "                                        - df.groupby(\"year\")[col_to_demean].transform(\"mean\"))})\n",
    "\n",
    "data_w_cs_weights = data.set_index(\"state\").join(sc_weights).fillna(1/len(sc_weights))\n",
    "\n",
    "formula = f\"\"\"cigsale ~ -1 + treat\"\"\"\n",
    "\n",
    "mod = smf.wls(formula,\n",
    "              data=data_w_cs_weights\n",
    "              .assign(treat = data_w_cs_weights[\"after_treatment\"]*data_w_cs_weights[\"treated\"])\n",
    "              .pipe(demean_time(col_to_demean=\"treat\"))\n",
    "              .pipe(demean_time(col_to_demean=\"cigsale\")),\n",
    "              weights=data_w_cs_weights[\"sc_w\"]+1e-10)\n",
    "\n",
    "mod.fit().summary().tables[1]"
   ]
  },
  {
   "cell_type": "markdown",
   "metadata": {},
   "source": [
    "We just saw how the two approaches, SC and DiD, are actually closely related. Now, we are ready to talk about Synthetic Diff-in-Diff. As you can probably guess, we will just add weights to the DiD estimator or unit fixed-effects to the Synthetic Control estimator. \n",
    " \n",
    "![img](data/img/sdid/both-pills.png)\n",
    " \n",
    "## Synthetic Diff-in-Diff\n",
    " \n",
    "Before we jump right into the Synthetic Diff-in-Diff estimator, let me just reproduce the same equations we saw earlier for SC and DiD, which will ease the comparison.\n",
    " \n",
    "$$\n",
    "\\hat{\\tau}^{sc} = \\underset{\\beta, \\tau}{argmin}  \\bigg\\{ \\sum_{i=1}^N \\sum_{t=1}^T \\big(Y_{it} - \\beta_t - \\tau D_{it}\\big)^2 \\hat{w}^{sc}_i \\bigg\\}\n",
    "$$\n",
    " \n",
    "$$\n",
    "\\hat{\\tau}^{did} = \\underset{\\mu, \\alpha, \\beta, \\tau}{argmin} \\bigg\\{ \\sum_{i=1}^N \\sum_{t=1}^T \\big(Y_{it} - (\\mu + \\alpha_i + \\beta_t + \\tau D_{it}\\big)^2 \\bigg\\}\n",
    "$$\n",
    " \n",
    "Next, just like I promised, we can easily merge the equations above into one which will contain elements from both of them:\n",
    " \n",
    "$$\n",
    "\\hat{\\tau}^{sdid} = \\underset{\\mu, \\alpha, \\beta, \\tau}{argmin}  \\bigg\\{ \\sum_{i=1}^N \\sum_{t=1}^T \\big(Y_{it} - (\\mu + \\alpha_i + \\beta_t + \\tau D_{it}\\big)^2 \\hat{w}^{sdid}_i \\hat{\\lambda}^{sdid}_t \\bigg\\}\n",
    "$$\n",
    " \n",
    "As you can see, we've added back the $\\alpha_i$ unit fixed effects. We've also kept the unit weights $\\hat{w}_i$. But there is something new, which is the time weights $\\hat{\\lambda}_t$. Don't worry. There is nothing fancy about them. Remember how the unit weights $w_i$ minimized the difference between the control units and the average of treated units? In other words, we use them to match the pre-trend of the treated and control groups. The time weight does the same thing, but for the periods. That is, it minimizes the difference between the pre and post-treated periods for the controls. \n",
    " \n",
    "$$\n",
    "\\hat{\\lambda}^{sdid} = \\underset{\\lambda}{\\mathrm{argmin}} \\ ||\\bar{\\pmb{y}}_{post, co} - (\\pmb{\\lambda}_{pre} \\pmb{Y}_{pre, co} +  \\lambda_0)||^2_2 \\\\\n",
    "\\text{s.t } \\ \\sum \\lambda_t = 1 \\text{ and } \\ \\lambda_t > 0 \\ \\forall \\ t\n",
    "$$\n",
    " \n",
    "Again, $\\pmb{Y}_{pre, co}$ is a $T_{pre}$ by $N_{co}$ matrix of outcomes where the rows represent time periods and the columns represent the units. But now $\\bar{\\pmb{y}}_{post, co}$ is a 1 by $N_{co}$ row vector, where each entry is the time average outcome for that control unit in the post-treatment period. Finally, $\\pmb{\\lambda}_{pre}$ is a 1 by $T_{pre}$ row vector, with one entry for each pretreatment period. Another way to see this is by noticing that the unit weights $w$ were post-multiplying the outcome matrix $\\pmb{Y}_{pre, co} \\pmb{w}_{co}$. This means we were regressing the average outcome **for each unit** of the treated group on the outcome of the units in the control group. Now, we are flipping that problem on its head, regressing the average outcome **for each post-treatment time period** of the control group on the outcome of the same control units, but in the pre-treatment period.\n",
    " \n",
    "As for the time weights in the post-treated periods, we just set them to one over the number of post-treated periods $1/T_{post}$ (again, doing uniform weighting). Notice that we also have an intercept $\\lambda_0$. We do this to allow the post-treatment period to be above or below all the pre-treatment periods, which is the case in many applications with a clear positive or negative trend.\n",
    " \n",
    "If all of this seems a bit abstract, maybe code will help you understand what is going on."
   ]
  },
  {
   "cell_type": "code",
   "execution_count": null,
   "metadata": {},
   "outputs": [],
   "source": [
    "def fit_time_weights(data, outcome_col, year_col, state_col, treat_col, post_col):\n",
    "        \n",
    "        control = data.query(f\"~{treat_col}\")\n",
    "        \n",
    "        # pivot the data to the (T_pre, N_co) matrix representation\n",
    "        y_pre = (control\n",
    "                 .query(f\"~{post_col}\")\n",
    "                 .pivot(year_col, state_col, outcome_col))\n",
    "        \n",
    "        # group post-treatment time period by units to have a (1, N_co) vector.\n",
    "        y_post_mean = (control\n",
    "                       .query(f\"{post_col}\")\n",
    "                       .groupby(state_col)\n",
    "                       [outcome_col]\n",
    "                       .mean()\n",
    "                       .values)\n",
    "        \n",
    "        # add a (1, N_co) vector of 1 to the top of the matrix, to serve as the intercept.\n",
    "        X = np.concatenate([np.ones((1, y_pre.shape[1])), y_pre.values], axis=0)\n",
    "        \n",
    "        # estimate time weights\n",
    "        w = cp.Variable(X.shape[0])\n",
    "        objective = cp.Minimize(cp.sum_squares(w@X - y_post_mean))\n",
    "        constraints = [cp.sum(w[1:]) == 1, w[1:] >= 0]\n",
    "        problem = cp.Problem(objective, constraints)\n",
    "        problem.solve(verbose=False)\n",
    "        \n",
    "        # print(\"Intercept: \", w.value[0])\n",
    "        return pd.Series(w.value[1:], # remove intercept\n",
    "                         name=\"time_weights\",\n",
    "                         index=y_pre.index)"
   ]
  },
  {
   "cell_type": "markdown",
   "metadata": {},
   "source": [
    "The first thing we do in this code is to filter out the treated group. Then, we pivot the pre-treated data so that we have the matrix $\\pmb{Y}_{pre,co}$. Next, we group the post-treatment data to get the average outcome for each control unit in the post-treatment period. We then add a row full of ones to the top of $\\pmb{Y}_{pre,co}$, which will serve as the intercept. Finally, we regress $\\bar{\\pmb{y}}_{post, co}$ on the pre-treated periods (the rows of $\\pmb{Y}_{pre,co}$) to get the time weights $\\lambda_t$. Notice how we add the constraints to have the weights sum up to 1 and be non-negative. Finally, we toss the intercept away and store the time weights in a series. \n",
    " \n",
    "Here is the result we get by running the code above to find the time weights in the Proposition 99 problem. Notice that all periods except for 1986, 87 ans 88 get zero weights. This means that a weighted average of only the last 3 periods is enough to balance pre and post treatment periods."
   ]
  },
  {
   "cell_type": "code",
   "execution_count": null,
   "metadata": {},
   "outputs": [],
   "source": [
    "time_weights = fit_time_weights(data,\n",
    "                                outcome_col=\"cigsale\",\n",
    "                                year_col=\"year\",\n",
    "                                state_col=\"state\",\n",
    "                                treat_col=\"treated\",\n",
    "                                post_col=\"after_treatment\")\n",
    "\n",
    "time_weights.round(3).tail()"
   ]
  },
  {
   "cell_type": "markdown",
   "metadata": {},
   "source": [
    "To understand a bit more about the role of these weights, we can plot $\\hat{\\pmb{\\lambda}}_{pre} \\pmb{Y}_{pre, co} +  \\hat{\\lambda}_0$ as a horizontal line in the pretreatment period that doesn't get zeroed out. Next to it, we plot the average outcome in the post-treatment period. Notice how they align perfectly. We also show the estimated time weights in red bars and in the secondary axis."
   ]
  },
  {
   "cell_type": "code",
   "execution_count": null,
   "metadata": {
    "tags": [
     "hide-input"
    ]
   },
   "outputs": [],
   "source": [
    "fig = plt.figure()\n",
    "ax = fig.add_subplot(111)\n",
    "\n",
    "ax.plot(data.query(\"~treated\").query(\"~after_treatment\").groupby(\"year\")[\"cigsale\"].mean())\n",
    "ax.plot(data.query(\"~treated\").query(\"after_treatment\").groupby(\"year\")[\"cigsale\"].mean())\n",
    "\n",
    "intercept = -15.023877689807628\n",
    "ax.hlines((data.query(\"~treated\").query(\"~after_treatment\").groupby(\"year\")[\"cigsale\"].mean() * time_weights).sum() - 15, 1986, 1988,\n",
    "          color=\"C0\", ls=\"dashed\", label=\"\"\" $\\lambda_{pre} Y_{pre, co} + \\lambda_0$\"\"\")\n",
    "ax.hlines(data.query(\"~treated\").query(\"after_treatment\").groupby(\"year\")[\"cigsale\"].mean().mean(), 1988, 2000,\n",
    "          color=\"C1\", ls=\"dashed\", label=\"\"\"Avg  $Y_{post, co}$\"\"\")\n",
    "ax.vlines(x=1988, ymin=90, ymax=140, linestyle=\":\", lw=2, label=\"Proposition 99\", color=\"black\")\n",
    "plt.legend()\n",
    "\n",
    "plt.title(\"Time Period Balancing\")\n",
    "plt.ylabel(\"Cigarette Sales\");\n",
    "\n",
    "ax2 = ax.twinx()\n",
    "ax2.bar(time_weights.index, time_weights, label=\"$\\lambda$\")\n",
    "ax2.set_ylim(0,10)\n",
    "ax2.set_ylabel(\"Time Weights\");"
   ]
  },
  {
   "cell_type": "markdown",
   "metadata": {},
   "source": [
    "Now that we learned what are the time weights $\\lambda_t$ in the Synthetic Diff-in-Diff estimator and how to estimate them, let's turn our attention to the unit weights $w_i$. And no, unfortunately they are not just like the ones we get when using traditional Synthetic Controls. The first difference between them is that we also allow for an intercept $w_0$. We do this because we don't need the treated unit and synthetic control to have the same level anymore. Since we will throw DiD into the mix, we only need to make the synthetic control and treated unit have parallel trends.\n",
    " \n",
    "The next difference is that we add a $L_2$ penalty to the weights. This helps non-zero weights to be more distributed across the control units, as opposed to having just a few of them contributing to the synthetic control. The $L_2$ penalty ensures we don't have very big weights, which forces us to use more units. \n",
    " \n",
    " \n",
    "$$\n",
    "\\hat{w}^{sdid} = \\underset{w}{\\mathrm{argmin}} \\ ||\\bar{\\pmb{y}}_{pre, tr} - (\\pmb{Y}_{pre, co} \\pmb{w}_{co} +  w_0)||^2_2 + \\zeta^2 T_{pre} ||\\pmb{w}_{co}||^2_2\\\\\n",
    "\\text{s.t } \\ \\sum w_i = 1 \\text{ and } \\ w_i > 0 \\ \\forall \\ i\n",
    "$$\n",
    "\n",
    "\n",
    "There is also this $\\zeta^2$ term, which is theoretically motivated, but very complicated to explain, so I will unfortunately leave it as a bit of a mystery. In the reference, you can check the original article, which explains them. We define it like this:\n",
    " \n",
    "$$\n",
    "\\zeta = (N_{tr}* T_{post})^{1/4}\\sigma(\\Delta_{it})\n",
    "$$\n",
    " \n",
    "where $\\Delta_{it}$ is the first difference in the outcomes $Y_{it} - Y_{i(t-1)}$ and $\\sigma(\\Delta_{it})$ is the standard deviation of this difference. Here is the code to compute it."
   ]
  },
  {
   "cell_type": "code",
   "execution_count": null,
   "metadata": {},
   "outputs": [],
   "source": [
    "def calculate_regularization(data, outcome_col, year_col, state_col, treat_col, post_col):\n",
    "    \n",
    "    n_treated_post = data.query(post_col).query(treat_col).shape[0]\n",
    "    \n",
    "    first_diff_std = (data\n",
    "                      .query(f\"~{post_col}\")\n",
    "                      .query(f\"~{treat_col}\")\n",
    "                      .groupby(state_col)\n",
    "                      [outcome_col]\n",
    "                      .diff()\n",
    "                      .std())\n",
    "    \n",
    "    return n_treated_post**(1/4) * first_diff_std"
   ]
  },
  {
   "cell_type": "markdown",
   "metadata": {},
   "source": [
    "As for the unit weights, there is nothing particularly new in them. We can reuse a lot of the code from the function to estimate the time weights. We only need to be careful about the dimensions, since the problem is now upside down."
   ]
  },
  {
   "cell_type": "code",
   "execution_count": null,
   "metadata": {},
   "outputs": [],
   "source": [
    "def fit_unit_weights(data, outcome_col, year_col, state_col, treat_col, post_col):\n",
    "    \n",
    "    zeta = calculate_regularization(data, outcome_col, year_col, state_col, treat_col, post_col)\n",
    "    pre_data = data.query(f\"~{post_col}\")\n",
    "    \n",
    "    # pivot the data to the (T_pre, N_co) matrix representation\n",
    "    y_pre_control = (pre_data\n",
    "                     .query(f\"~{treat_col}\")\n",
    "                     .pivot(year_col, state_col, outcome_col))\n",
    "    \n",
    "    # group treated units by time periods to have a (T_pre, 1) vector.\n",
    "    y_pre_treat_mean = (pre_data\n",
    "                        .query(f\"{treat_col}\")\n",
    "                        .groupby(year_col)\n",
    "                        [outcome_col]\n",
    "                        .mean())\n",
    "    \n",
    "    # add a (T_pre, 1) column to the begining of the (T_pre, N_co) matrix to serve as intercept\n",
    "    T_pre = y_pre_control.shape[0]\n",
    "    X = np.concatenate([np.ones((T_pre, 1)), y_pre_control.values], axis=1) \n",
    "    \n",
    "    # estimate unit weights. Notice the L2 penalty using zeta\n",
    "    w = cp.Variable(X.shape[1])\n",
    "    objective = cp.Minimize(cp.sum_squares(X@w - y_pre_treat_mean.values) + T_pre*zeta**2 * cp.sum_squares(w[1:]))\n",
    "    constraints = [cp.sum(w[1:]) == 1, w[1:] >= 0]\n",
    "    \n",
    "    problem = cp.Problem(objective, constraints)\n",
    "    problem.solve(verbose=False)\n",
    "    \n",
    "    # print(\"Intercept:\", w.value[0])\n",
    "    return pd.Series(w.value[1:], # remove intercept\n",
    "                     name=\"unit_weights\",\n",
    "                     index=y_pre_control.columns)"
   ]
  },
  {
   "cell_type": "markdown",
   "metadata": {},
   "source": [
    "First, we calculate $\\zeta$ using the function we defined earlier and filter out the post-treatment period. Next, we pivot the pre-treatment data to get the $\\bar{\\pmb{y}}_{pre, tr}$ matrix of outcomes. Then, we add a column full of ones to the beginning of the $\\bar{\\pmb{y}}_{pre, tr}$ matrix. This column will allow us to estimate the intercept. With all of that, we define the optimization objective, which includes the $L_2$ penalty on the weights. Finally, we toss the intercept away and store the estimated weights in a series.\n",
    " \n",
    "If we use this code to estimate the unit weights in the Proposition 99 problem, here is the result we get for the first 5 states:"
   ]
  },
  {
   "cell_type": "code",
   "execution_count": null,
   "metadata": {},
   "outputs": [],
   "source": [
    "unit_weights = fit_unit_weights(data,\n",
    "                                outcome_col=\"cigsale\",\n",
    "                                year_col=\"year\",\n",
    "                                state_col=\"state\",\n",
    "                                treat_col=\"treated\",\n",
    "                                post_col=\"after_treatment\")\n",
    "\n",
    "unit_weights.round(3).head()"
   ]
  },
  {
   "cell_type": "markdown",
   "metadata": {},
   "source": [
    "These unit weights also define a synthetic control that we can plot alongside the outcome of California. We'll also plot the traditional synthetic control we've estimated earlier alongside the one we've just estimated plus the intercept term. This will give us some intuition on what is going on and the difference between what we just did and traditional Synthetic Control."
   ]
  },
  {
   "cell_type": "code",
   "execution_count": null,
   "metadata": {
    "tags": [
     "hide-input"
    ]
   },
   "outputs": [],
   "source": [
    "intercept = -24.75035353644767\n",
    "sc_did = data_piv.drop(columns=\"california\").values @ unit_weights.values\n",
    "\n",
    "fig, (ax1, ax2) = plt.subplots(1, 2, figsize=(18,5))\n",
    "\n",
    "ax1.plot(data_piv.index, sc_did, label=\"Synthetic Control (SDID)\", color=\"C0\", alpha=.8)\n",
    "ax1.plot(data_piv[\"california\"], label=\"California\", color=\"C1\")\n",
    "ax1.vlines(x=1988, ymin=40, ymax=160, linestyle=\":\", lw=2, label=\"Proposition 99\", color=\"black\")\n",
    "\n",
    "ax1.legend()\n",
    "ax1.set_title(\"SDID Synthetic Control\")\n",
    "ax1.set_ylabel(\"Cigarette Sales\");\n",
    "\n",
    "ax2.plot(data_piv.index, sc_did+intercept, label=\"Synthetic Control (SDID) + $w_0$\", color=\"C0\", alpha=.8)\n",
    "ax2.plot(data_piv.index, sc, label=\"Traditional SC\", color=\"C0\", ls=\"dashed\")\n",
    "ax2.plot(data_piv[\"california\"], label=\"California\", color=\"C1\")\n",
    "ax2.vlines(x=1988, ymin=40, ymax=160, linestyle=\":\", lw=2, label=\"Proposition 99\", color=\"black\")\n",
    "ax2.legend()\n",
    "ax2.set_title(\"SDID and Traditional SCs\");"
   ]
  },
  {
   "cell_type": "markdown",
   "metadata": {},
   "source": [
    "As we can see in the first plot, the obvious difference is that this new synthetic control is no longer on top of California. That's because we've included an intercept, which allows the treated unit to be on an arbitrarily different level than its synthetic control. This new Synthetic Control method is built to have the same pretreatment trend as the treated unit, but not necessarily the same level. \n",
    " \n",
    "In the second plot, we shift this new SC by adding back the intercept we've removed earlier. This puts it on top of the treated unit, California. For comparison, we show the traditional SC we've fitted earlier as the red dashed line. Notice that they are not the same. This difference comes both from the fact that we allowed for an intercept and from the $L_2$ penalty, which pushed the weights towards zero.\n",
    " \n",
    "Now that we have both time $\\hat{\\lambda}_t$ and unit $\\hat{w}_t$ weights, we can proceed to running the Diff-in-Diff part of the Synthetic DiD estimator. For this part, it is better if we work with the data in the format of a table with $N$ by $T$ rows, where we have columns for the states, the years, the outcome, the post-treatment indicator and the treated unit indicator. To that table, we will add the time and unit weights. Since the time weight is in a series with a time index and the unit weights is in another series with unit index, we can simply join everything together."
   ]
  },
  {
   "cell_type": "code",
   "execution_count": null,
   "metadata": {},
   "outputs": [],
   "source": [
    "def join_weights(data, unit_w, time_w, year_col, state_col, treat_col, post_col):\n",
    "\n",
    "    return (\n",
    "        data\n",
    "        .set_index([year_col, state_col])\n",
    "        .join(time_w)\n",
    "        .join(unit_w)\n",
    "        .reset_index()\n",
    "        .fillna({time_w.name: data[post_col].mean(),\n",
    "                 unit_w.name: data[treat_col].mean()})\n",
    "        .assign(**{\"weights\": lambda d: (d[time_w.name]*d[unit_w.name]).round(10)})\n",
    "        .astype({treat_col:int, post_col:int}))"
   ]
  },
  {
   "cell_type": "markdown",
   "metadata": {},
   "source": [
    "This joining process will leave `null` for the unit weights in the treated group and for the time weights in the post-treatment period. Fortunately, because we use uniform weighting in both cases, it is pretty easy to fill out those `null`s. For the time weights, we fill with the average of the post-treatment dummy, which will be $1/T_{post}$; for the unit weights, we fill with the average of the treated dummy, which will be $1/N_{tr}$. Finally, we multiply both weights together.\n",
    " \n",
    "Here is the result we get by running this code on the Proposition 99 data:"
   ]
  },
  {
   "cell_type": "code",
   "execution_count": null,
   "metadata": {},
   "outputs": [],
   "source": [
    "did_data = join_weights(data, unit_weights, time_weights,\n",
    "                        year_col=\"year\",\n",
    "                        state_col=\"state\",\n",
    "                        treat_col=\"treated\",\n",
    "                        post_col=\"after_treatment\")\n",
    "\n",
    "did_data.head()"
   ]
  },
  {
   "cell_type": "markdown",
   "metadata": {},
   "source": [
    "Finally, all we have to do is estimate a Diff-in-Diff model with the weights we've just defined. The parameter estimate associated with the interaction term for the post-treatment period and treated dummy will be the Synthetic Difference-in-Differences estimate for the $ATT$."
   ]
  },
  {
   "cell_type": "code",
   "execution_count": null,
   "metadata": {},
   "outputs": [],
   "source": [
    "did_model = smf.wls(\"cigsale ~ after_treatment*treated\",\n",
    "                    data=did_data,\n",
    "                    weights=did_data[\"weights\"]+1e-10).fit()\n",
    "\n",
    "did_model.summary().tables[1]"
   ]
  },
  {
   "cell_type": "markdown",
   "metadata": {},
   "source": [
    "This estimate is much smaller than the one we get with Diff-in-Diff, but that is not surprising. As we've already discussed, the Diff-in-Diff estimator is probably biased in this case, since we have pretty good reasons to question the parallel trends assumption. What is perhaps less obvious is why the SDID estimate is smaller than the traditional SC estimate. If we go back and look at the SC plot, we can see that cigarette sales in California started to fall below its synthetic control prior to Proposition 99. This is probably due to the fact that traditional Synthetic Control has to match treated and control units in the entire pre-treatment period, causing it to miss one year or the other. This is less of an issue in SDID, since the time weights allow us to focus just on the periods that are more similar to the post-intervention period. In this case, those were precisely the three years anteceding Proposition 99. \n",
    " \n",
    "To grasp what SDID is doing, we can plot the Diff-in-Diff lines for the treated (California) and the SDID Synthetic Control. Notice how we are projecting the trend we see in the synthetic control onto the treated unit to get the counterfactual $Y(0)_{tr, post}$. The difference between the two solid purple lines is the estimated $ATT$. We start those lines in 1987 to show how the time weights zero out all periods but 1986, 87 and 88. The time weights are also shown in the small plot down below."
   ]
  },
  {
   "cell_type": "code",
   "execution_count": null,
   "metadata": {
    "tags": [
     "hide-input"
    ]
   },
   "outputs": [],
   "source": [
    "avg_pre_period = (time_weights * time_weights.index).sum()\n",
    "avg_post_period = 1989 + (2000 - 1989) / 2\n",
    "\n",
    "fig, (ax1, ax2) = plt.subplots(2, 1, figsize=(15,8), sharex=True, gridspec_kw={'height_ratios': [3, 1]})\n",
    "\n",
    "ax1.plot(data_piv.index, sc_did, label=\"California\")\n",
    "ax1.plot(data_piv.index, data_piv[\"california\"], label=\"Synthetic Control (SDID)\")\n",
    "ax1.vlines(1989, data_piv[\"california\"].min(), sc_did.max(), color=\"black\", ls=\"dotted\", label=\"Prop. 99\")\n",
    "\n",
    "pre_sc = did_model.params[\"Intercept\"]\n",
    "post_sc = pre_sc + did_model.params[\"after_treatment\"]\n",
    "pre_treat = pre_sc + did_model.params[\"treated\"]\n",
    "post_treat = post_sc + did_model.params[\"treated\"] + did_model.params[\"after_treatment:treated\"]\n",
    "\n",
    "sc_did_y0 = pre_treat + (post_sc - pre_sc)\n",
    "\n",
    "ax1.plot([avg_pre_period, avg_post_period], [pre_sc, post_sc], color=\"C2\")\n",
    "ax1.plot([avg_pre_period, avg_post_period], [pre_treat, post_treat], color=\"C2\", ls=\"dashed\")\n",
    "ax1.plot([avg_pre_period, avg_post_period], [pre_treat, sc_did_y0], color=\"C2\")\n",
    "ax1.legend()\n",
    "ax1.set_title(\"Synthetic Diff-in-Diff\")\n",
    "ax1.set_ylabel(\"Cigarette Sales\")\n",
    "\n",
    "ax2.bar(time_weights.index, time_weights)\n",
    "ax2.vlines(1989, 0, 1, color=\"black\", ls=\"dotted\")\n",
    "ax2.set_ylabel(\"Time Weights\")\n",
    "ax2.set_xlabel(\"Years\");"
   ]
  },
  {
   "cell_type": "markdown",
   "metadata": {},
   "source": [
    "The above estimator estimates the $ATT$ which is the effect of Propostion 99 on California averaged out across all post-treatment time periods. But, from the above plot, it looks like the effect increases over time. What if we want to take that into account? Fortunately, it is very straightforward to do that.\n",
    " \n",
    "Before we move on, just a word of caution about the above estimator. You should not trust the standard errors or confidence intervals reported by the regression we just ran. They don't reflect the variance in estimating the weights. We will take a look at how to do proper inference briefly, but first, let's see how to deal with effect heterogeneity across time.\n",
    " \n",
    "## Time Effect Heterogeneity and Staggered Adoption\n",
    " \n",
    "Fortunately, it is incredibly easy to estimate one effect for each time period using SDID. All we have to do is run it multiple times, one for each time period. To be more precise, let's say we have the following treatment assignment matrix, with just 4 time periods and 3 units. The last unit is the treated one.\n",
    " \n",
    "$$\n",
    "D = \\begin{bmatrix}\n",
    "    0_1 & 0_1 & 0_1 \\\\\n",
    "    0_2 & 0_2 & 0_2 \\\\\n",
    "    0_3 & 0_3 & 1_3 \\\\\n",
    "    0_4 & 0_4 & 1_4 \\\\\n",
    "\\end{bmatrix}\n",
    "$$\n",
    " \n",
    "Running SDID with the above matrix would give us the average $ATT$ across periods 3 and 4. What we can do to estimate the effect on each period individually is simply to partition the problem into two, one for each post-treatment time period. Then, we run SDID on the data where we only keep post-treatment period 3 and again on the data where we only keep post-treatment period 4. That is, we run SDID on each of the following matrices individually.\n",
    " \n",
    "$$\n",
    "D_1 = \\begin{bmatrix}\n",
    "    0_1 & 0_1 & 0_1 \\\\\n",
    "    0_2 & 0_2 & 0_2 \\\\\n",
    "    0_3 & 0_3 & 1_3 \\\\\n",
    "\\end{bmatrix}\n",
    "$$\n",
    " \n",
    " \n",
    "$$\n",
    "D_2 = \\begin{bmatrix}\n",
    "    0_1 & 0_1 & 0_1 \\\\\n",
    "    0_2 & 0_2 & 0_2 \\\\\n",
    "    0_4 & 0_4 & 1_4 \\\\\n",
    "\\end{bmatrix}\n",
    "$$\n",
    " \n",
    "To do that, it would be best if we first merge all the steps of SDID into a single function. That is, estimating the unit and time weights and running DiD."
   ]
  },
  {
   "cell_type": "code",
   "execution_count": null,
   "metadata": {},
   "outputs": [],
   "source": [
    "def synthetic_diff_in_diff(data, outcome_col, year_col, state_col, treat_col, post_col):\n",
    "    \n",
    "    # find the unit weights\n",
    "    unit_weights = fit_unit_weights(data,\n",
    "                                    outcome_col=outcome_col,\n",
    "                                    year_col=year_col,\n",
    "                                    state_col=state_col,\n",
    "                                    treat_col=treat_col,\n",
    "                                    post_col=post_col)\n",
    "    \n",
    "    # find the time weights\n",
    "    time_weights = fit_time_weights(data,\n",
    "                                    outcome_col=outcome_col,\n",
    "                                    year_col=year_col,\n",
    "                                    state_col=state_col,\n",
    "                                    treat_col=treat_col,\n",
    "                                    post_col=post_col)\n",
    "\n",
    "    # join weights into DiD Data\n",
    "    did_data = join_weights(data, unit_weights, time_weights,\n",
    "                            year_col=year_col,\n",
    "                            state_col=state_col,\n",
    "                            treat_col=treat_col,\n",
    "                            post_col=post_col)\n",
    "    \n",
    "    # run DiD\n",
    "    formula = f\"{outcome_col} ~ {post_col}*{treat_col}\"\n",
    "    did_model = smf.wls(formula, data=did_data, weights=did_data[\"weights\"]+1e-10).fit()\n",
    "    \n",
    "    return did_model.params[f\"{post_col}:{treat_col}\"]\n",
    "\n",
    "\n",
    "synthetic_diff_in_diff(data, \n",
    "                       outcome_col=\"cigsale\",\n",
    "                       year_col=\"year\",\n",
    "                       state_col=\"state\",\n",
    "                       treat_col=\"treated\",\n",
    "                       post_col=\"after_treatment\")"
   ]
  },
  {
   "cell_type": "markdown",
   "metadata": {},
   "source": [
    "Now that we have a way of easily running SDID, we can run it multiple times, filtering out all the post-treatment periods except the one for which we want the effect."
   ]
  },
  {
   "cell_type": "code",
   "execution_count": null,
   "metadata": {},
   "outputs": [],
   "source": [
    "effects = {year: synthetic_diff_in_diff(data.query(f\"~after_treatment|(year=={year})\"), \n",
    "                                        outcome_col=\"cigsale\",\n",
    "                                        year_col=\"year\",\n",
    "                                        state_col=\"state\",\n",
    "                                        treat_col=\"treated\",\n",
    "                                        post_col=\"after_treatment\")\n",
    "           for year in range(1989, 2001)}\n",
    "\n",
    "effects = pd.Series(effects)"
   ]
  },
  {
   "cell_type": "code",
   "execution_count": null,
   "metadata": {
    "tags": [
     "hide-input"
    ]
   },
   "outputs": [],
   "source": [
    "plt.plot(effects);\n",
    "plt.ylabel(\"Effect in Cigarette Sales\")\n",
    "plt.title(\"SDID Effect Estimate by Year\");"
   ]
  },
  {
   "cell_type": "markdown",
   "metadata": {},
   "source": [
    "As expected, the effect gets bigger as time passes. It starts small, but it gradually increases to what seems like a decrease in consumption of 25 cigarette packs per capita in 2020. \n",
    " \n",
    "Conveniently, running multiple SDID will also be important to deal with the staggered adoption case. With staggered addoption design, we have multiple treated units, which get the treatment at different time periods. For example, going back to our very simple assignment matrix, with 3 units and 4 time periods, let's say unit 1 never gets the treatment, unit 2 gets the treatment at period 4 and unit 3 gets the treatment at period 3. This would result in the following matrix\n",
    " \n",
    "$$\n",
    "D = \\begin{bmatrix}\n",
    "    0_1 & 0_1 & 0_1 \\\\\n",
    "    0_2 & 0_2 & 0_2 \\\\\n",
    "    0_3 & 0_3 & 1_3 \\\\\n",
    "    0_4 & 1_4 & 1_4 \\\\\n",
    "\\end{bmatrix}\n",
    "$$\n",
    " \n",
    "Notice that SDID can't handle that matrix, because we don't have a clear definition about what is a pre-treatment period (before time 4, in the case of the second unit or before period 3, in the case of the second unit) or what is a control unit (unit 2 could be a control for the treatment starting at period 3). The key in solving this is realizing we can delete columns (units) or rows (time periods) in that matrix in order to go back to the block assignment design.\n",
    " \n",
    "For example, we can create two block matrices from the one above by first deleting the 3rd time period and then another one where we delete the 4th time period.\n",
    " \n",
    "$$\n",
    "D_1 = \\begin{bmatrix}\n",
    "    0_1 & 0_1 & 0_1 \\\\\n",
    "    0_2 & 0_2 & 0_2 \\\\\n",
    "    0_4 & 1_4 & 1_4 \\\\\n",
    "\\end{bmatrix}\n",
    "$$\n",
    " \n",
    "$$\n",
    "D_2 = \\begin{bmatrix}\n",
    "    0_1 & 0_1 & 0_1 \\\\\n",
    "    0_2 & 0_2 & 0_2 \\\\\n",
    "    0_3 & 0_3 & 1_3 \\\\\n",
    "\\end{bmatrix}\n",
    "$$\n",
    " \n",
    " \n",
    "The result is two block matrices, which means we can run SDID in both of them. The result will be two $ATT$ estimates, which we can then combine with a weighted average, where the weights are the proportion of treated time and periods in each block. In our example, the weight for $ATT_1$ would be $2/3$ and the weight for $ATT_2$ would be 1/3.\n",
    " \n",
    "Alternatively, we could also have 2 block designs by removing columns, which would result in the following matrices\n",
    " \n",
    "$$\n",
    "D_1 = \\begin{bmatrix}\n",
    "    0_1 & 0_1  \\\\\n",
    "    0_2 & 0_2  \\\\\n",
    "    0_3 & 0_3  \\\\\n",
    "    0_4 & 1_4  \\\\\n",
    "\\end{bmatrix}\n",
    "$$\n",
    " \n",
    "$$\n",
    "D_2 = \\begin{bmatrix}\n",
    "    0_1 & 0_1 \\\\\n",
    "    0_2 & 0_2 \\\\\n",
    "    0_3 & 1_3 \\\\\n",
    "    0_4 & 1_4 \\\\\n",
    "\\end{bmatrix}\n",
    "$$\n",
    " \n",
    "where $D_1$ has units 1 and 2 and $D_2$ has units 1 and 4. \n",
    " \n",
    "Since we already saw how to estimate SDID for different time periods, let's look at this approach where we filter out units. Since we don't originally have a staggered adoption design in our Proposition 99 data, let's instead simulate one. We'll create 3 new states from our data and pretend they pass a law similar to Proposition 99, but in the year 1993. Maybe they were impressed with the results in California and wanted to try in their states too. Once they do, this law that they pass decreases cigarette consumption by 3% each year. We can visualize the average cigarette consumption for those  new states to better understand what is going on. In dashed black, we have the year in which these states pass this anti-tobacco law. "
   ]
  },
  {
   "cell_type": "code",
   "execution_count": null,
   "metadata": {
    "tags": [
     "hide-input"
    ]
   },
   "outputs": [],
   "source": [
    "np.random.seed(1)\n",
    "n = 3\n",
    "tr_state = (data\n",
    "            .query(f\"state.isin({list(np.random.choice(data['state'].unique(), n))})\")\n",
    "            .assign(**{\n",
    "                \"treated\": True,\n",
    "                \"state\": lambda d: \"new_\" + d[\"state\"].astype(str),\n",
    "                \"after_treatment\": lambda d: d[\"year\"] > 1992\n",
    "            })\n",
    "            # effect of 3% / year\n",
    "            .assign(**{\"cigsale\": lambda d: np.random.normal(d[\"cigsale\"] - \n",
    "                                                             d[\"cigsale\"]*(0.03*(d[\"year\"] - 1992))*d[\"after_treatment\"], 1)}))\n",
    "\n",
    "new_data = pd.concat([data, tr_state]).assign(**{\"after_treatment\": lambda d: np.where(d[\"treated\"], d[\"after_treatment\"], np.nan)})"
   ]
  },
  {
   "cell_type": "code",
   "execution_count": null,
   "metadata": {
    "tags": [
     "hide-input"
    ]
   },
   "outputs": [],
   "source": [
    "new_data_piv = new_data.pivot(\"year\", \"state\", \"cigsale\")\n",
    "\n",
    "new_tr_states = list(filter(lambda c: str(c).startswith(\"new\"), new_data_piv.columns))\n",
    "\n",
    "plt.figure(figsize=(10,5))\n",
    "plt.plot(new_data_piv.drop(columns=[\"california\"]+new_tr_states), color=\"C1\", alpha=0.3)\n",
    "plt.plot(new_data_piv.drop(columns=[\"california\"]+new_tr_states).mean(axis=1), lw=3, color=\"C1\", ls=\"dashed\", label=\"Control Avg.\")\n",
    "\n",
    "plt.plot(new_data_piv[\"california\"], color=\"C0\", label=\"California\")\n",
    "plt.plot(new_data_piv[new_tr_states].mean(axis=1), color=\"C4\", label=\"New Tr State\")\n",
    "\n",
    "plt.vlines(x=1988, ymin=40, ymax=300, linestyle=\":\", lw=2, label=\"Proposition 99\", color=\"black\")\n",
    "plt.vlines(x=1992, ymin=40, ymax=300, linestyle=\"dashed\", lw=2, label=\"New State Tr.\", color=\"black\")\n",
    "plt.legend()\n",
    "plt.ylabel(\"Cigarette Sales\")\n",
    "plt.title(\"Two Treatment Groups\");"
   ]
  },
  {
   "cell_type": "markdown",
   "metadata": {},
   "source": [
    "We finally have this staggered adoption data. Now, we need to figure out how to filter out some states so we can break the problem into multiple block assignment cases. First, we can group states by when they passed the law. The following code does exactly that."
   ]
  },
  {
   "cell_type": "code",
   "execution_count": null,
   "metadata": {},
   "outputs": [],
   "source": [
    "assignment_blocks = (new_data.query(\"treated & after_treatment\")\n",
    "                     .groupby(\"state\")[\"year\"].min()\n",
    "                     .reset_index()\n",
    "                     .groupby(\"year\")[\"state\"].apply(list).to_dict())\n",
    "\n",
    "assignment_blocks"
   ]
  },
  {
   "cell_type": "markdown",
   "metadata": {},
   "source": [
    "As you can see, we have two groups of states. One with only California, which was treated starting in 1989, and another with the three new states we've created, which were all treated starting in 1993. Now, we need to run SDID for each of those groups. We can easily do that, but keeping just the control units plus one of those groups. There is a catch, though. The `after_treatment` column will have a different meaning, depending on which group we are looking at. If we are looking at the group containing only California, `after_treatment` should be `year >= 1989`; if we are looking at the group with the new states, it should be `year >= 1993`. Fortunately, this is pretty easy to account for. All we need is to recreate the `after_treatment` in each iteration. "
   ]
  },
  {
   "cell_type": "code",
   "execution_count": null,
   "metadata": {},
   "outputs": [],
   "source": [
    "staggered_effects = {year: synthetic_diff_in_diff(new_data\n",
    "                                                   .query(f\"~treated|(state.isin({states}))\")\n",
    "                                                   .assign(**{\"after_treatment\": lambda d: d[\"year\"] >= year}),\n",
    "                                                  outcome_col=\"cigsale\",\n",
    "                                                  year_col=\"year\",\n",
    "                                                  state_col=\"state\",\n",
    "                                                  treat_col=\"treated\",\n",
    "                                                  post_col=\"after_treatment\")\n",
    "                     for year, states in assignment_blocks.items()}\n",
    "\n",
    "staggered_effects"
   ]
  },
  {
   "cell_type": "markdown",
   "metadata": {},
   "source": [
    "Not surprisingly, the $ATT$ estimate for the first group, the one with only California, is exactly the same as the one we've seen before. The other $ATT$ refers to the one we get with the new group of states. We have to combine them into a single $ATT$. This can be done with the weighted average we've explained earlier. \n",
    " \n",
    "First, we calculate the number of treated entries (`after_treatment & treated`) in each block. Then, we combine the $ATT$s using those weights. "
   ]
  },
  {
   "cell_type": "code",
   "execution_count": null,
   "metadata": {},
   "outputs": [],
   "source": [
    "weights = {year: sum((new_data[\"year\"] >= year) & (new_data[\"state\"].isin(states)))\n",
    "           for year, states in assignment_blocks.items()}\n",
    "\n",
    "att = sum([effect*weights[year]/sum(weights.values()) for year, effect in staggered_effects.items()])\n",
    "\n",
    "print(\"weights: \", weights)\n",
    "print(\"ATT: \", att)"
   ]
  },
  {
   "cell_type": "markdown",
   "metadata": {},
   "source": [
    "Here, we have a total of 36 treatment instances: the usual 12 post-treatment periods for California plus 8 treatment periods (1993-2000) for each of the three new treatment states we've introduced. With that in mind, the weight for the first $ATT$ is $12/36$ and for the second $ATT$, $24/36$, which combines to the result above.\n",
    " \n",
    "## Placebo Variance Estimation\n",
    " \n",
    "This chapter is getting a bit too long, but there is one promise we haven't fulfilled yet. Remember how we said, in the very beginning, that SDID has better precision (lower error bars) when compared to Synthetic Controls? The reason is that the time and unit fixed effects in SDID capture a ton of the variation in the outcome, which in turn, reduces the variance of the estimator.\n",
    " \n",
    "Of course I wouldn't ask you to take my word for it, so next, we'll show how to place a confidence interval around the SDID estimate. It turns out there are many solutions to this problem, but only one that fits the case for a single treated unit, which is the case we have here since only California was treated. The idea is to run a series of placebo tests, where we pretend a unit from the control pool is treated, when it actually isn't. Then, we use SDID to estimate the $ATT$ of this placebo test and store its result. We re-run this step multiple times, sampling a control unit each time. In the end, we will have an array of placebo $ATT$s. The variance of this array is the placebo variance of the SDID effect estimate, which we can use to construct a confidence interval.\n",
    " \n",
    "$$\n",
    "\\hat{V}^{placebo}_{\\tau} = B^{-1}\\sum_{b=1}^B\\bigg(\\hat{\\tau}^{(b)} - \\bar{\\hat{\\tau}}^{(b)}\\bigg)^2\n",
    "$$\n",
    " \n",
    "$$\n",
    "\\tau \\in \\hat{\\tau}^{sdid} \\pm \\mathcal{z}_{\\alpha/2} \\sqrt{\\hat{V}_{\\tau}}\n",
    "$$\n",
    " \n",
    "In order to implement this, the first thing we need is a function which creates the placebo. This function will filter out the treated units, sample a single control unit and flip the `treated` column for that control unit from 0 to a 1."
   ]
  },
  {
   "cell_type": "code",
   "execution_count": null,
   "metadata": {},
   "outputs": [],
   "source": [
    "def make_random_placebo(data, state_col, treat_col):\n",
    "    control = data.query(f\"~{treat_col}\")\n",
    "    states = control[state_col].unique()\n",
    "    placebo_state = np.random.choice(states)\n",
    "    return control.assign(**{treat_col: control[state_col] == placebo_state})"
   ]
  },
  {
   "cell_type": "code",
   "execution_count": null,
   "metadata": {},
   "outputs": [],
   "source": [
    "np.random.seed(1)\n",
    "placebo_data = make_random_placebo(data, state_col=\"state\", treat_col=\"treated\")\n",
    "\n",
    "placebo_data.query(\"treated\").tail()"
   ]
  },
  {
   "cell_type": "markdown",
   "metadata": {},
   "source": [
    "In the example above, we've sampled state 39 and we are now pretending that it was treated. Notice how the `treated` column was flipped to `True`.\n",
    " \n",
    "The next thing we need is to compute the SDID estimate with this placebo data and repeat that a bunch of times. The next function does that. It runs the `synthetic_diff_in_diff` function to get the SDID estimate, but instead of passing the usual data, we pass the result of calling `make_random_placebo`. We do that multiple times to get an array of SDID estimates and, finally, compute the square root of the variance of this array, which is just the standard deviation."
   ]
  },
  {
   "cell_type": "code",
   "execution_count": null,
   "metadata": {},
   "outputs": [],
   "source": [
    "from joblib import Parallel, delayed # for parallel processing\n",
    "\n",
    "\n",
    "def estimate_se(data, outcome_col, year_col, state_col, treat_col, post_col, bootstrap_rounds=400, seed=0, njobs=4):\n",
    "    np.random.seed(seed=seed)\n",
    "    \n",
    "    sdid_fn = partial(synthetic_diff_in_diff,\n",
    "                      outcome_col=outcome_col,\n",
    "                      year_col=year_col,\n",
    "                      state_col=state_col,\n",
    "                      treat_col=treat_col,\n",
    "                      post_col=post_col)\n",
    "    \n",
    "    effects = Parallel(n_jobs=njobs)(delayed(sdid_fn)(make_random_placebo(data, state_col=state_col, treat_col=treat_col))\n",
    "                                     for _ in range(bootstrap_rounds))\n",
    "    \n",
    "    return np.std(effects, axis=0)\n"
   ]
  },
  {
   "cell_type": "code",
   "execution_count": null,
   "metadata": {},
   "outputs": [],
   "source": [
    "effect = synthetic_diff_in_diff(data,\n",
    "                                outcome_col=\"cigsale\",\n",
    "                                year_col=\"year\",\n",
    "                                state_col=\"state\",\n",
    "                                treat_col=\"treated\",\n",
    "                                post_col=\"after_treatment\")\n",
    "\n",
    "\n",
    "se = estimate_se(data,\n",
    "                 outcome_col=\"cigsale\",\n",
    "                 year_col=\"year\",\n",
    "                 state_col=\"state\",\n",
    "                 treat_col=\"treated\",\n",
    "                 post_col=\"after_treatment\")"
   ]
  },
  {
   "cell_type": "markdown",
   "metadata": {},
   "source": [
    "The standard deviation can then be used to construct confidence intervals much like we described in the formula above."
   ]
  },
  {
   "cell_type": "code",
   "execution_count": null,
   "metadata": {},
   "outputs": [],
   "source": [
    "print(f\"Effect: {effect}\")\n",
    "print(f\"Standard Error: {se}\")\n",
    "print(f\"90% CI: ({effect-1.65*se}, {effect+1.65*se})\")"
   ]
  },
  {
   "cell_type": "markdown",
   "metadata": {},
   "source": [
    "Notice that the $ATT$ is not significant in this case, but what's more interesting here is to compare the standard error of the SDID estimate with the one we get from traditional Synthetic Control."
   ]
  },
  {
   "cell_type": "code",
   "execution_count": null,
   "metadata": {
    "tags": [
     "hide-input"
    ]
   },
   "outputs": [],
   "source": [
    "def synthetic_control(data, outcome_col, year_col, state_col, treat_col, post_col):\n",
    "    \n",
    "    x_pre_control = (data\n",
    "                     .query(f\"~{treat_col}\")\n",
    "                     .query(f\"~{post_col}\")\n",
    "                     .pivot(year_col, state_col, outcome_col)\n",
    "                     .values)\n",
    "    \n",
    "    y_pre_treat_mean = (data\n",
    "                        .query(f\"~{post_col}\")\n",
    "                        .query(f\"{treat_col}\")\n",
    "                        .groupby(year_col)\n",
    "                        [outcome_col]\n",
    "                        .mean())\n",
    "    \n",
    "    w = cp.Variable(x_pre_control.shape[1])\n",
    "    objective = cp.Minimize(cp.sum_squares(x_pre_control@w - y_pre_treat_mean.values))\n",
    "    constraints = [cp.sum(w) == 1, w >= 0]\n",
    "    \n",
    "    problem = cp.Problem(objective, constraints)\n",
    "    problem.solve(verbose=False)\n",
    "    \n",
    "    sc = (data\n",
    "          .query(f\"~{treat_col}\")\n",
    "          .pivot(year_col, state_col, outcome_col)\n",
    "          .values) @ w.value\n",
    "    \n",
    "    y1 = data.query(f\"{treat_col}\").query(f\"{post_col}\")[outcome_col]\n",
    "    att = np.mean(y1 - sc[-len(y1):])\n",
    "    \n",
    "    return att\n",
    "\n",
    "\n",
    "def estimate_se_sc(data, outcome_col, year_col, state_col, treat_col, post_col, bootstrap_rounds=400, seed=0):\n",
    "    np.random.seed(seed=seed)\n",
    "    effects = [synthetic_control(make_random_placebo(data, state_col=state_col, treat_col=treat_col), \n",
    "                                 outcome_col=outcome_col,\n",
    "                                 year_col=year_col,\n",
    "                                 state_col=state_col,\n",
    "                                 treat_col=treat_col,\n",
    "                                 post_col=post_col)\n",
    "              for _ in range(bootstrap_rounds)]\n",
    "    \n",
    "    return np.std(effects, axis=0)\n",
    "\n",
    "\n",
    "effect_sc = synthetic_control(data,\n",
    "                              outcome_col=\"cigsale\",\n",
    "                              year_col=\"year\",\n",
    "                              state_col=\"state\",\n",
    "                              treat_col=\"treated\",\n",
    "                              post_col=\"after_treatment\")\n",
    "\n",
    "\n",
    "se_sc = estimate_se_sc(data,\n",
    "                       outcome_col=\"cigsale\",\n",
    "                       year_col=\"year\",\n",
    "                       state_col=\"state\",\n",
    "                       treat_col=\"treated\",\n",
    "                       post_col=\"after_treatment\")"
   ]
  },
  {
   "cell_type": "code",
   "execution_count": null,
   "metadata": {},
   "outputs": [],
   "source": [
    "print(f\"Effect: {effect_sc}\")\n",
    "print(f\"Standard Error: {se_sc}\")\n",
    "print(f\"90% CI: ({effect_sc-1.65*se_sc}, {effect_sc+1.65*se_sc})\")"
   ]
  },
  {
   "cell_type": "markdown",
   "metadata": {},
   "source": [
    "Notice how the error for synthetic control is higher than for SDID. Again, that is because SDID captures a lot of the variance in the outcome via its time and unit fixed effects. With this, we fulfill the promise we made earlier. But, before we close, it is worth mentioning that we can also use the same procedure to estimate the variance to make a confidence interval around the effect we've estimated for each post-treatment time period. All we need to do is run the code above once for each time period. Just keep in mind that this might take some time to run, even with the parallelization we've implemented."
   ]
  },
  {
   "cell_type": "code",
   "execution_count": null,
   "metadata": {},
   "outputs": [],
   "source": [
    "standard_errors = {year: estimate_se(data.query(f\"~after_treatment|(year=={year})\"), \n",
    "                                     outcome_col=\"cigsale\",\n",
    "                                     year_col=\"year\",\n",
    "                                     state_col=\"state\",\n",
    "                                     treat_col=\"treated\",\n",
    "                                     post_col=\"after_treatment\")\n",
    "                   for year in range(1989, 2001)}\n",
    "\n",
    "standard_errors = pd.Series(standard_errors)"
   ]
  },
  {
   "cell_type": "code",
   "execution_count": null,
   "metadata": {
    "tags": [
     "hide-input"
    ]
   },
   "outputs": [],
   "source": [
    "plt.figure(figsize=(15,6))\n",
    "\n",
    "plt.plot(effects, color=\"C0\")\n",
    "plt.fill_between(effects.index, effects-1.65*standard_errors, effects+1.65*standard_errors, alpha=0.2,  color=\"C0\")\n",
    "\n",
    "plt.ylabel(\"Effect in Cigarette Sales\")\n",
    "plt.xlabel(\"Year\")\n",
    "plt.title(\"Synthetic DiD 90% Conf. Interval\")\n",
    "plt.xticks(rotation=45);"
   ]
  },
  {
   "cell_type": "markdown",
   "metadata": {},
   "source": [
    "## Key Concepts\n",
    "\n",
    "Synthetic-Diff-in-Diff (SDID) draws inspiration from both Diff-in-Diff and Synthetic Control, which brings advantages from both models.  Like SC, SDID still works with multiple periods when pre-treatment trends are not parallel. However, unlike SC, SDID estimates unit weights to build a control unit which is only parallel to the treated group (it doesn't have to match its level). From DID, SDID leverages time and unit fixed effects, which helps to explain a lot of the variance in the outcome, which in turn reduces the variance of the SDID estimator. Synthetic-Diff-in-Diff also introduces some new ideas of its own. First, there is an additional $L2$ penalty in the optimization of the unit weights which makes them more spread out across control units. Second, SDID allows for an intercept (and hence, extrapolation) when building such weights. Third, SDID introduces the use of time weights, which are not present in either DID nor SC. For this reason, I wouldn't say SDID is just merging SC and SDID. It is rather building something new, inspired by these two approaches. I also wouldn't say that SDID is better or worse than traditional Synthetic Control. Each of them have different properties that might be appropriate or not, depending on the situation. For example, you might find yourself in a situation where allowing the extrapolations from SDID is dangerous. In which case, SC might be a good alternative.  \n",
    "\n",
    "\n",
    "## References \n",
    " \n",
    "This chapter is essentially an explainer to the *Synthetic Difference in Differences* (2019) article, by Dmitry Arkhangelsky, Susan Athey, David A. Hirshberg, Guido W. Imbens and Stefan Wager. Additionally, I would love to recognize Masa Asami for his python implementation of SDID, pysynthdid. His code helped me make sure I didn't have any bugs in mine, which was extremely helpful. \n",
    " \n",
    " \n",
    "## Contribute\n",
    " \n",
    "Causal Inference for the Brave and True is an open-source material on causal inference, the statistics of science. It uses only free software, based in Python. Its goal is to be accessible monetarily and intellectually.\n",
    "If you found this book valuable and you want to support it, please go to [Patreon](https://www.patreon.com/causal_inference_for_the_brave_and_true). If you are not ready to contribute financially, you can also help by fixing typos, suggesting edits or giving feedback on passages you didn't understand. Just go to the book's repository and [open an issue](https://github.com/matheusfacure/python-causality-handbook/issues). Finally, if you liked this content, please share it with others who might find it useful and give it a [star on GitHub](https://github.com/matheusfacure/python-causality-handbook/stargazers)."
   ]
  },
  {
   "cell_type": "code",
   "execution_count": null,
   "metadata": {},
   "outputs": [],
   "source": []
  }
 ],
 "metadata": {
  "celltoolbar": "Tags",
  "kernelspec": {
   "display_name": "test",
   "language": "python",
   "name": "test"
  },
  "language_info": {
   "codemirror_mode": {
    "name": "ipython",
    "version": 3
   },
   "file_extension": ".py",
   "mimetype": "text/x-python",
   "name": "python",
   "nbconvert_exporter": "python",
   "pygments_lexer": "ipython3",
   "version": "3.10.4"
  }
 },
 "nbformat": 4,
 "nbformat_minor": 5
}
